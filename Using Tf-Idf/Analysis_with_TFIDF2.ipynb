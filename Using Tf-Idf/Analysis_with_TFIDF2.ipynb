{
 "cells": [
  {
   "cell_type": "code",
   "execution_count": 1,
   "metadata": {},
   "outputs": [],
   "source": [
    "# import the libraries\n",
    "import numpy as np \n",
    "import pandas as pd\n",
    "from sklearn.feature_extraction.text import TfidfVectorizer\n",
    "from sklearn.pipeline import Pipeline\n",
    "from sklearn.metrics import confusion_matrix, accuracy_score\n",
    "from sklearn.svm import SVC\n",
    "from sklearn.model_selection import train_test_split\n",
    "import matplotlib.pyplot as plt"
   ]
  },
  {
   "cell_type": "code",
   "execution_count": 2,
   "metadata": {},
   "outputs": [
    {
     "data": {
      "text/html": [
       "<div>\n",
       "<style scoped>\n",
       "    .dataframe tbody tr th:only-of-type {\n",
       "        vertical-align: middle;\n",
       "    }\n",
       "\n",
       "    .dataframe tbody tr th {\n",
       "        vertical-align: top;\n",
       "    }\n",
       "\n",
       "    .dataframe thead th {\n",
       "        text-align: right;\n",
       "    }\n",
       "</style>\n",
       "<table border=\"1\" class=\"dataframe\">\n",
       "  <thead>\n",
       "    <tr style=\"text-align: right;\">\n",
       "      <th></th>\n",
       "      <th>Review</th>\n",
       "      <th>Liked</th>\n",
       "    </tr>\n",
       "  </thead>\n",
       "  <tbody>\n",
       "    <tr>\n",
       "      <th>0</th>\n",
       "      <td>Wow... Loved this place.</td>\n",
       "      <td>1</td>\n",
       "    </tr>\n",
       "    <tr>\n",
       "      <th>1</th>\n",
       "      <td>Crust is not good.</td>\n",
       "      <td>0</td>\n",
       "    </tr>\n",
       "    <tr>\n",
       "      <th>2</th>\n",
       "      <td>Not tasty and the texture was just nasty.</td>\n",
       "      <td>0</td>\n",
       "    </tr>\n",
       "    <tr>\n",
       "      <th>3</th>\n",
       "      <td>Stopped by during the late May bank holiday of...</td>\n",
       "      <td>1</td>\n",
       "    </tr>\n",
       "    <tr>\n",
       "      <th>4</th>\n",
       "      <td>The selection on the menu was great and so wer...</td>\n",
       "      <td>1</td>\n",
       "    </tr>\n",
       "  </tbody>\n",
       "</table>\n",
       "</div>"
      ],
      "text/plain": [
       "                                              Review  Liked\n",
       "0                           Wow... Loved this place.      1\n",
       "1                                 Crust is not good.      0\n",
       "2          Not tasty and the texture was just nasty.      0\n",
       "3  Stopped by during the late May bank holiday of...      1\n",
       "4  The selection on the menu was great and so wer...      1"
      ]
     },
     "execution_count": 2,
     "metadata": {},
     "output_type": "execute_result"
    }
   ],
   "source": [
    "# Dataset\n",
    "df = pd.read_csv('datasets/Restaurant_Reviews.tsv',sep = '\\t', quoting = 3)\n",
    "df.head()"
   ]
  },
  {
   "cell_type": "code",
   "execution_count": 3,
   "metadata": {},
   "outputs": [
    {
     "name": "stdout",
     "output_type": "stream",
     "text": [
      "(1000, 2)\n",
      "Review    0\n",
      "Liked     0\n",
      "dtype: int64\n"
     ]
    }
   ],
   "source": [
    "print(df.shape)\n",
    "print(df.isna().sum())"
   ]
  },
  {
   "cell_type": "code",
   "execution_count": 6,
   "metadata": {},
   "outputs": [],
   "source": [
    "import re\n",
    "import nltk\n",
    "# un comment nltk.download('stopwords') if you're running for the first time\n",
    "#nltk.download('stopwords')         # Download stopwords from nltk\n",
    "\n",
    "from nltk.corpus import stopwords\n",
    "from nltk.stem import WordNetLemmatizer\n",
    "corpus = []\n",
    "\n",
    "# Iterating through all the reviews\n",
    "for i in range(0,1000):\n",
    "    review = re.sub('[^a-zA-Z]', ' ', df['Review'][i])\n",
    "    review = review.lower()\n",
    "    review  = review.split()\n",
    "    \n",
    "    ps = WordNetLemmatizer()\n",
    "    words = stopwords.words('english')\n",
    "    words.remove('not')\n",
    "    words.remove('no')\n",
    "    words.remove('but')\n",
    "    words.remove('is')\n",
    "    review = [ps.lemmatize(word) for word in review if not word in set(words)]\n",
    "    review = ' '.join(review)\n",
    "    corpus.append(review)"
   ]
  },
  {
   "cell_type": "code",
   "execution_count": 7,
   "metadata": {},
   "outputs": [],
   "source": [
    "y = df[\"Liked\"]"
   ]
  },
  {
   "cell_type": "markdown",
   "metadata": {},
   "source": [
    "##### SVC Linear kernel with 10 % test data"
   ]
  },
  {
   "cell_type": "code",
   "execution_count": 8,
   "metadata": {},
   "outputs": [],
   "source": [
    "x_train,x_test,y_train,y_test = train_test_split(corpus,y,test_size = 0.1, random_state = 25)\n",
    "Clf_svc = Pipeline([('tfIdf',TfidfVectorizer()),('cl',SVC(kernel = 'linear')),])\n",
    "Clf_svc.fit(x_train,y_train)\n",
    "pred = Clf_svc.predict(x_test)"
   ]
  },
  {
   "cell_type": "code",
   "execution_count": 9,
   "metadata": {},
   "outputs": [
    {
     "name": "stdout",
     "output_type": "stream",
     "text": [
      "confusion matrix : \n",
      "[[45  4]\n",
      " [ 6 45]]\n",
      "Accuracy :  0.9\n"
     ]
    }
   ],
   "source": [
    "print(\"confusion matrix : \")\n",
    "cm = confusion_matrix(y_test,pred)\n",
    "print(cm)\n",
    "print(\"Accuracy : \", accuracy_score(y_test,pred))"
   ]
  },
  {
   "cell_type": "code",
   "execution_count": 10,
   "metadata": {},
   "outputs": [],
   "source": [
    "test = [\n",
    "    'I really liked this hamburger',\n",
    "    'I like this',\n",
    "    'wow!!!',\n",
    "    'This burger tastes rubbish',\n",
    "    'Wow I like this food',\n",
    "    'We can get the same food at a low cost somewhere else',\n",
    "    'This restaurant is good',\n",
    "    'This restaurant is really good',\n",
    "    'What is this waste',\n",
    "    'This is not good',\n",
    "    'Amazing food as always',\n",
    "    \"I don't know what i'm eating, this taste awful\",\n",
    "    'yakkkk!!!!',\n",
    "    'not good',\n",
    "    \"i'll vomit\",\n",
    "    'Price is good here',\n",
    "    'not delicious',\n",
    "    'delicious',\n",
    "    \"I feel like i'm in heaven\",\n",
    "    \"The food is good but cleaniness was not upto the mark.\"\n",
    "]"
   ]
  },
  {
   "cell_type": "code",
   "execution_count": 10,
   "metadata": {},
   "outputs": [],
   "source": [
    "test = [\n",
    "    'I really liked this hamburger',\n",
    "    'I like this',\n",
    "    'wow!!!',\n",
    "    'This burger tastes rubbish',\n",
    "    'Wow I like this food',\n",
    "    'We can get the same food at a low cost somewhere else',\n",
    "    'This restaurant is good',\n",
    "    'This restaurant is really good',\n",
    "    'What is this waste',\n",
    "    'This is not good',\n",
    "    'Amazing food as always',\n",
    "    \"I don't know what i'm eating, this taste awful\",\n",
    "    'yakkkk!!!!',\n",
    "    'not good',\n",
    "    \"i'll vomit\",\n",
    "    'Price is good here',\n",
    "    'not delicious',\n",
    "    'delicious',\n",
    "    \"I feel like i'm in heaven\",\n",
    "    \"The food is good but cleaniness was not upto the mark.\"\n",
    "]"
   ]
  },
  {
   "cell_type": "code",
   "execution_count": 11,
   "metadata": {},
   "outputs": [
    {
     "name": "stdout",
     "output_type": "stream",
     "text": [
      "[1 0 1 0 1 0 1 1 0 0 1 0 0 0 0 1 0 1 1 0]\n"
     ]
    }
   ],
   "source": [
    "result = Clf_svc.predict(test)\n",
    "print(result)\n",
    "#Based on some inputs\n",
    "# Expected: [1 1 1 0 1 0 1 1 0 0 1 0 0 0 0 1 0 1 1 0]\n",
    "# result:   [1 0 1 0 1 0 1 1 0 0 1 0 0 0 0 1 0 1 1 0]"
   ]
  },
  {
   "cell_type": "code",
   "execution_count": 12,
   "metadata": {},
   "outputs": [
    {
     "data": {
      "text/plain": [
       "0.95"
      ]
     },
     "execution_count": 12,
     "metadata": {},
     "output_type": "execute_result"
    }
   ],
   "source": [
    "from sklearn.metrics import accuracy_score\n",
    "expected = [1,1,1,0,1,0,1,1,0,0,1,0,0,0,0,1,0,1,1,0]\n",
    "result =   [1,0,1,0,1,0,1,1,0,0,1,0,0,0,0,1,0,1,1,0]\n",
    "\n",
    "acc = accuracy_score(expected, result)\n",
    "acc"
   ]
  },
  {
   "cell_type": "markdown",
   "metadata": {},
   "source": [
    "### User can manually check inputs"
   ]
  },
  {
   "cell_type": "code",
   "execution_count": 23,
   "metadata": {},
   "outputs": [
    {
     "name": "stdout",
     "output_type": "stream",
     "text": [
      "review: good food good servic\n",
      "\n",
      "positive review 1\n"
     ]
    }
   ],
   "source": [
    "user_review = []\n",
    "user_review = input('review: ')\n",
    "\n",
    "result = Clf_svc.predict([user_review])[0]\n",
    "#Show the result\n",
    "if(result < 1):\n",
    " print('\\nNegative review 0')\n",
    "else:\n",
    " print('\\npositive review 1')"
   ]
  }
 ],
 "metadata": {
  "kernelspec": {
   "display_name": "Python 3",
   "language": "python",
   "name": "python3"
  },
  "language_info": {
   "codemirror_mode": {
    "name": "ipython",
    "version": 3
   },
   "file_extension": ".py",
   "mimetype": "text/x-python",
   "name": "python",
   "nbconvert_exporter": "python",
   "pygments_lexer": "ipython3",
   "version": "3.7.4"
  },
  "latex_envs": {
   "LaTeX_envs_menu_present": true,
   "autoclose": false,
   "autocomplete": true,
   "bibliofile": "biblio.bib",
   "cite_by": "apalike",
   "current_citInitial": 1,
   "eqLabelWithNumbers": true,
   "eqNumInitial": 1,
   "hotkeys": {
    "equation": "Ctrl-E",
    "itemize": "Ctrl-I"
   },
   "labels_anchors": false,
   "latex_user_defs": false,
   "report_style_numbering": false,
   "user_envs_cfg": false
  },
  "varInspector": {
   "cols": {
    "lenName": 16,
    "lenType": 16,
    "lenVar": 40
   },
   "kernels_config": {
    "python": {
     "delete_cmd_postfix": "",
     "delete_cmd_prefix": "del ",
     "library": "var_list.py",
     "varRefreshCmd": "print(var_dic_list())"
    },
    "r": {
     "delete_cmd_postfix": ") ",
     "delete_cmd_prefix": "rm(",
     "library": "var_list.r",
     "varRefreshCmd": "cat(var_dic_list()) "
    }
   },
   "types_to_exclude": [
    "module",
    "function",
    "builtin_function_or_method",
    "instance",
    "_Feature"
   ],
   "window_display": false
  }
 },
 "nbformat": 4,
 "nbformat_minor": 4
}
